{
  "cells": [
    {
      "cell_type": "markdown",
      "metadata": {
        "id": "view-in-github",
        "colab_type": "text"
      },
      "source": [
        "<a href=\"https://colab.research.google.com/github/hayaa-1/Supervised-Machine-Learning/blob/main/weather_forcasting_rain_tomorrow.ipynb\" target=\"_parent\"><img src=\"https://colab.research.google.com/assets/colab-badge.svg\" alt=\"Open In Colab\"/></a>"
      ]
    },
    {
      "cell_type": "markdown",
      "id": "a03a0b52",
      "metadata": {
        "id": "a03a0b52"
      },
      "source": [
        "# <font color = darkred> Machine Learning I (Final Project) (Due June 12, 2022)</font>\n",
        "## Task #1:\n",
        "### Objective:\n",
        "• The objective of this project is to analyze the weather data and extract the hypotheses to arrive at a prediction<br>\n",
        "• You need to perform at least one classification task of your choice and one regression task in your project.<br> \n",
        "<b>Dataset:</b> weather prediction dataset(weatherHistory.csv)<br> \n",
        "• Available at: https://github.com/martandsingh/datasets/blob/master/weatherHistory.csv<br>\n",
        "• https://www.kaggle.com/datasets/zaraavagyan/weathercsv<br>\n",
        "The dataset consists of different attributes describing the weather condition such as temperature, humidity, pressure…etc.<br>\n",
        "You are requested to do the following for both the regression and classification problems:"
      ]
    },
    {
      "cell_type": "markdown",
      "id": "a58389f3",
      "metadata": {
        "id": "a58389f3"
      },
      "source": [
        "<b>Task 1-a: Classification<font color =darkgreen>Target: Precip Type (snow/rain) , score: F1_score </font> </b><br> \n",
        "1- Load the data and perform all necessary data cleaning and scaling.<br>"
      ]
    },
    {
      "cell_type": "code",
      "execution_count": null,
      "id": "d5c3540e",
      "metadata": {
        "id": "d5c3540e"
      },
      "outputs": [],
      "source": [
        "import numpy as np\n",
        "import pandas as pd \n",
        "import matplotlib.pyplot as plt "
      ]
    },
    {
      "cell_type": "code",
      "execution_count": null,
      "id": "cabdcbe7",
      "metadata": {
        "colab": {
          "base_uri": "https://localhost:8080/",
          "height": 488
        },
        "id": "cabdcbe7",
        "outputId": "eb8bb055-d084-4230-d145-04c0d6fae894"
      },
      "outputs": [
        {
          "data": {
            "text/html": [
              "<div>\n",
              "<style scoped>\n",
              "    .dataframe tbody tr th:only-of-type {\n",
              "        vertical-align: middle;\n",
              "    }\n",
              "\n",
              "    .dataframe tbody tr th {\n",
              "        vertical-align: top;\n",
              "    }\n",
              "\n",
              "    .dataframe thead th {\n",
              "        text-align: right;\n",
              "    }\n",
              "</style>\n",
              "<table border=\"1\" class=\"dataframe\">\n",
              "  <thead>\n",
              "    <tr style=\"text-align: right;\">\n",
              "      <th></th>\n",
              "      <th>MinTemp</th>\n",
              "      <th>MaxTemp</th>\n",
              "      <th>Rainfall</th>\n",
              "      <th>Evaporation</th>\n",
              "      <th>Sunshine</th>\n",
              "      <th>WindGustDir</th>\n",
              "      <th>WindGustSpeed</th>\n",
              "      <th>WindDir9am</th>\n",
              "      <th>WindDir3pm</th>\n",
              "      <th>WindSpeed9am</th>\n",
              "      <th>...</th>\n",
              "      <th>Humidity3pm</th>\n",
              "      <th>Pressure9am</th>\n",
              "      <th>Pressure3pm</th>\n",
              "      <th>Cloud9am</th>\n",
              "      <th>Cloud3pm</th>\n",
              "      <th>Temp9am</th>\n",
              "      <th>Temp3pm</th>\n",
              "      <th>RainToday</th>\n",
              "      <th>RISK_MM</th>\n",
              "      <th>RainTomorrow</th>\n",
              "    </tr>\n",
              "  </thead>\n",
              "  <tbody>\n",
              "    <tr>\n",
              "      <th>0</th>\n",
              "      <td>8.0</td>\n",
              "      <td>24.3</td>\n",
              "      <td>0.0</td>\n",
              "      <td>3.4</td>\n",
              "      <td>6.3</td>\n",
              "      <td>NW</td>\n",
              "      <td>30.0</td>\n",
              "      <td>SW</td>\n",
              "      <td>NW</td>\n",
              "      <td>6.0</td>\n",
              "      <td>...</td>\n",
              "      <td>29</td>\n",
              "      <td>1019.7</td>\n",
              "      <td>1015.0</td>\n",
              "      <td>7</td>\n",
              "      <td>7</td>\n",
              "      <td>14.4</td>\n",
              "      <td>23.6</td>\n",
              "      <td>No</td>\n",
              "      <td>3.6</td>\n",
              "      <td>Yes</td>\n",
              "    </tr>\n",
              "    <tr>\n",
              "      <th>1</th>\n",
              "      <td>14.0</td>\n",
              "      <td>26.9</td>\n",
              "      <td>3.6</td>\n",
              "      <td>4.4</td>\n",
              "      <td>9.7</td>\n",
              "      <td>ENE</td>\n",
              "      <td>39.0</td>\n",
              "      <td>E</td>\n",
              "      <td>W</td>\n",
              "      <td>4.0</td>\n",
              "      <td>...</td>\n",
              "      <td>36</td>\n",
              "      <td>1012.4</td>\n",
              "      <td>1008.4</td>\n",
              "      <td>5</td>\n",
              "      <td>3</td>\n",
              "      <td>17.5</td>\n",
              "      <td>25.7</td>\n",
              "      <td>Yes</td>\n",
              "      <td>3.6</td>\n",
              "      <td>Yes</td>\n",
              "    </tr>\n",
              "    <tr>\n",
              "      <th>2</th>\n",
              "      <td>13.7</td>\n",
              "      <td>23.4</td>\n",
              "      <td>3.6</td>\n",
              "      <td>5.8</td>\n",
              "      <td>3.3</td>\n",
              "      <td>NW</td>\n",
              "      <td>85.0</td>\n",
              "      <td>N</td>\n",
              "      <td>NNE</td>\n",
              "      <td>6.0</td>\n",
              "      <td>...</td>\n",
              "      <td>69</td>\n",
              "      <td>1009.5</td>\n",
              "      <td>1007.2</td>\n",
              "      <td>8</td>\n",
              "      <td>7</td>\n",
              "      <td>15.4</td>\n",
              "      <td>20.2</td>\n",
              "      <td>Yes</td>\n",
              "      <td>39.8</td>\n",
              "      <td>Yes</td>\n",
              "    </tr>\n",
              "    <tr>\n",
              "      <th>3</th>\n",
              "      <td>13.3</td>\n",
              "      <td>15.5</td>\n",
              "      <td>39.8</td>\n",
              "      <td>7.2</td>\n",
              "      <td>9.1</td>\n",
              "      <td>NW</td>\n",
              "      <td>54.0</td>\n",
              "      <td>WNW</td>\n",
              "      <td>W</td>\n",
              "      <td>30.0</td>\n",
              "      <td>...</td>\n",
              "      <td>56</td>\n",
              "      <td>1005.5</td>\n",
              "      <td>1007.0</td>\n",
              "      <td>2</td>\n",
              "      <td>7</td>\n",
              "      <td>13.5</td>\n",
              "      <td>14.1</td>\n",
              "      <td>Yes</td>\n",
              "      <td>2.8</td>\n",
              "      <td>Yes</td>\n",
              "    </tr>\n",
              "    <tr>\n",
              "      <th>4</th>\n",
              "      <td>7.6</td>\n",
              "      <td>16.1</td>\n",
              "      <td>2.8</td>\n",
              "      <td>5.6</td>\n",
              "      <td>10.6</td>\n",
              "      <td>SSE</td>\n",
              "      <td>50.0</td>\n",
              "      <td>SSE</td>\n",
              "      <td>ESE</td>\n",
              "      <td>20.0</td>\n",
              "      <td>...</td>\n",
              "      <td>49</td>\n",
              "      <td>1018.3</td>\n",
              "      <td>1018.5</td>\n",
              "      <td>7</td>\n",
              "      <td>7</td>\n",
              "      <td>11.1</td>\n",
              "      <td>15.4</td>\n",
              "      <td>Yes</td>\n",
              "      <td>0.0</td>\n",
              "      <td>No</td>\n",
              "    </tr>\n",
              "    <tr>\n",
              "      <th>...</th>\n",
              "      <td>...</td>\n",
              "      <td>...</td>\n",
              "      <td>...</td>\n",
              "      <td>...</td>\n",
              "      <td>...</td>\n",
              "      <td>...</td>\n",
              "      <td>...</td>\n",
              "      <td>...</td>\n",
              "      <td>...</td>\n",
              "      <td>...</td>\n",
              "      <td>...</td>\n",
              "      <td>...</td>\n",
              "      <td>...</td>\n",
              "      <td>...</td>\n",
              "      <td>...</td>\n",
              "      <td>...</td>\n",
              "      <td>...</td>\n",
              "      <td>...</td>\n",
              "      <td>...</td>\n",
              "      <td>...</td>\n",
              "      <td>...</td>\n",
              "    </tr>\n",
              "    <tr>\n",
              "      <th>361</th>\n",
              "      <td>9.0</td>\n",
              "      <td>30.7</td>\n",
              "      <td>0.0</td>\n",
              "      <td>7.6</td>\n",
              "      <td>12.1</td>\n",
              "      <td>NNW</td>\n",
              "      <td>76.0</td>\n",
              "      <td>SSE</td>\n",
              "      <td>NW</td>\n",
              "      <td>7.0</td>\n",
              "      <td>...</td>\n",
              "      <td>15</td>\n",
              "      <td>1016.1</td>\n",
              "      <td>1010.8</td>\n",
              "      <td>1</td>\n",
              "      <td>3</td>\n",
              "      <td>20.4</td>\n",
              "      <td>30.0</td>\n",
              "      <td>No</td>\n",
              "      <td>0.0</td>\n",
              "      <td>No</td>\n",
              "    </tr>\n",
              "    <tr>\n",
              "      <th>362</th>\n",
              "      <td>7.1</td>\n",
              "      <td>28.4</td>\n",
              "      <td>0.0</td>\n",
              "      <td>11.6</td>\n",
              "      <td>12.7</td>\n",
              "      <td>N</td>\n",
              "      <td>48.0</td>\n",
              "      <td>NNW</td>\n",
              "      <td>NNW</td>\n",
              "      <td>2.0</td>\n",
              "      <td>...</td>\n",
              "      <td>22</td>\n",
              "      <td>1020.0</td>\n",
              "      <td>1016.9</td>\n",
              "      <td>0</td>\n",
              "      <td>1</td>\n",
              "      <td>17.2</td>\n",
              "      <td>28.2</td>\n",
              "      <td>No</td>\n",
              "      <td>0.0</td>\n",
              "      <td>No</td>\n",
              "    </tr>\n",
              "    <tr>\n",
              "      <th>363</th>\n",
              "      <td>12.5</td>\n",
              "      <td>19.9</td>\n",
              "      <td>0.0</td>\n",
              "      <td>8.4</td>\n",
              "      <td>5.3</td>\n",
              "      <td>ESE</td>\n",
              "      <td>43.0</td>\n",
              "      <td>ENE</td>\n",
              "      <td>ENE</td>\n",
              "      <td>11.0</td>\n",
              "      <td>...</td>\n",
              "      <td>47</td>\n",
              "      <td>1024.0</td>\n",
              "      <td>1022.8</td>\n",
              "      <td>3</td>\n",
              "      <td>2</td>\n",
              "      <td>14.5</td>\n",
              "      <td>18.3</td>\n",
              "      <td>No</td>\n",
              "      <td>0.0</td>\n",
              "      <td>No</td>\n",
              "    </tr>\n",
              "    <tr>\n",
              "      <th>364</th>\n",
              "      <td>12.5</td>\n",
              "      <td>26.9</td>\n",
              "      <td>0.0</td>\n",
              "      <td>5.0</td>\n",
              "      <td>7.1</td>\n",
              "      <td>NW</td>\n",
              "      <td>46.0</td>\n",
              "      <td>SSW</td>\n",
              "      <td>WNW</td>\n",
              "      <td>6.0</td>\n",
              "      <td>...</td>\n",
              "      <td>39</td>\n",
              "      <td>1021.0</td>\n",
              "      <td>1016.2</td>\n",
              "      <td>6</td>\n",
              "      <td>7</td>\n",
              "      <td>15.8</td>\n",
              "      <td>25.9</td>\n",
              "      <td>No</td>\n",
              "      <td>0.0</td>\n",
              "      <td>No</td>\n",
              "    </tr>\n",
              "    <tr>\n",
              "      <th>365</th>\n",
              "      <td>12.3</td>\n",
              "      <td>30.2</td>\n",
              "      <td>0.0</td>\n",
              "      <td>6.0</td>\n",
              "      <td>12.6</td>\n",
              "      <td>NW</td>\n",
              "      <td>78.0</td>\n",
              "      <td>NW</td>\n",
              "      <td>WNW</td>\n",
              "      <td>31.0</td>\n",
              "      <td>...</td>\n",
              "      <td>13</td>\n",
              "      <td>1009.6</td>\n",
              "      <td>1009.2</td>\n",
              "      <td>1</td>\n",
              "      <td>1</td>\n",
              "      <td>23.8</td>\n",
              "      <td>28.6</td>\n",
              "      <td>No</td>\n",
              "      <td>0.0</td>\n",
              "      <td>No</td>\n",
              "    </tr>\n",
              "  </tbody>\n",
              "</table>\n",
              "<p>366 rows × 22 columns</p>\n",
              "</div>"
            ],
            "text/plain": [
              "     MinTemp  MaxTemp  Rainfall  Evaporation  Sunshine WindGustDir  \\\n",
              "0        8.0     24.3       0.0          3.4       6.3          NW   \n",
              "1       14.0     26.9       3.6          4.4       9.7         ENE   \n",
              "2       13.7     23.4       3.6          5.8       3.3          NW   \n",
              "3       13.3     15.5      39.8          7.2       9.1          NW   \n",
              "4        7.6     16.1       2.8          5.6      10.6         SSE   \n",
              "..       ...      ...       ...          ...       ...         ...   \n",
              "361      9.0     30.7       0.0          7.6      12.1         NNW   \n",
              "362      7.1     28.4       0.0         11.6      12.7           N   \n",
              "363     12.5     19.9       0.0          8.4       5.3         ESE   \n",
              "364     12.5     26.9       0.0          5.0       7.1          NW   \n",
              "365     12.3     30.2       0.0          6.0      12.6          NW   \n",
              "\n",
              "     WindGustSpeed WindDir9am WindDir3pm  WindSpeed9am  ...  Humidity3pm  \\\n",
              "0             30.0         SW         NW           6.0  ...           29   \n",
              "1             39.0          E          W           4.0  ...           36   \n",
              "2             85.0          N        NNE           6.0  ...           69   \n",
              "3             54.0        WNW          W          30.0  ...           56   \n",
              "4             50.0        SSE        ESE          20.0  ...           49   \n",
              "..             ...        ...        ...           ...  ...          ...   \n",
              "361           76.0        SSE         NW           7.0  ...           15   \n",
              "362           48.0        NNW        NNW           2.0  ...           22   \n",
              "363           43.0        ENE        ENE          11.0  ...           47   \n",
              "364           46.0        SSW        WNW           6.0  ...           39   \n",
              "365           78.0         NW        WNW          31.0  ...           13   \n",
              "\n",
              "     Pressure9am  Pressure3pm  Cloud9am  Cloud3pm  Temp9am  Temp3pm  \\\n",
              "0         1019.7       1015.0         7         7     14.4     23.6   \n",
              "1         1012.4       1008.4         5         3     17.5     25.7   \n",
              "2         1009.5       1007.2         8         7     15.4     20.2   \n",
              "3         1005.5       1007.0         2         7     13.5     14.1   \n",
              "4         1018.3       1018.5         7         7     11.1     15.4   \n",
              "..           ...          ...       ...       ...      ...      ...   \n",
              "361       1016.1       1010.8         1         3     20.4     30.0   \n",
              "362       1020.0       1016.9         0         1     17.2     28.2   \n",
              "363       1024.0       1022.8         3         2     14.5     18.3   \n",
              "364       1021.0       1016.2         6         7     15.8     25.9   \n",
              "365       1009.6       1009.2         1         1     23.8     28.6   \n",
              "\n",
              "     RainToday  RISK_MM RainTomorrow  \n",
              "0           No      3.6          Yes  \n",
              "1          Yes      3.6          Yes  \n",
              "2          Yes     39.8          Yes  \n",
              "3          Yes      2.8          Yes  \n",
              "4          Yes      0.0           No  \n",
              "..         ...      ...          ...  \n",
              "361         No      0.0           No  \n",
              "362         No      0.0           No  \n",
              "363         No      0.0           No  \n",
              "364         No      0.0           No  \n",
              "365         No      0.0           No  \n",
              "\n",
              "[366 rows x 22 columns]"
            ]
          },
          "execution_count": 2,
          "metadata": {},
          "output_type": "execute_result"
        }
      ],
      "source": [
        "data = pd.read_csv('weather1.csv')\n",
        "data"
      ]
    },
    {
      "cell_type": "code",
      "execution_count": null,
      "id": "b0c9deb2",
      "metadata": {
        "colab": {
          "base_uri": "https://localhost:8080/"
        },
        "id": "b0c9deb2",
        "outputId": "19571cda-f036-40e6-8651-22d09e9acf0e"
      },
      "outputs": [
        {
          "name": "stdout",
          "output_type": "stream",
          "text": [
            "<class 'pandas.core.frame.DataFrame'>\n",
            "RangeIndex: 366 entries, 0 to 365\n",
            "Data columns (total 22 columns):\n",
            " #   Column         Non-Null Count  Dtype  \n",
            "---  ------         --------------  -----  \n",
            " 0   MinTemp        366 non-null    float64\n",
            " 1   MaxTemp        366 non-null    float64\n",
            " 2   Rainfall       366 non-null    float64\n",
            " 3   Evaporation    366 non-null    float64\n",
            " 4   Sunshine       363 non-null    float64\n",
            " 5   WindGustDir    363 non-null    object \n",
            " 6   WindGustSpeed  364 non-null    float64\n",
            " 7   WindDir9am     335 non-null    object \n",
            " 8   WindDir3pm     365 non-null    object \n",
            " 9   WindSpeed9am   359 non-null    float64\n",
            " 10  WindSpeed3pm   366 non-null    int64  \n",
            " 11  Humidity9am    366 non-null    int64  \n",
            " 12  Humidity3pm    366 non-null    int64  \n",
            " 13  Pressure9am    366 non-null    float64\n",
            " 14  Pressure3pm    366 non-null    float64\n",
            " 15  Cloud9am       366 non-null    int64  \n",
            " 16  Cloud3pm       366 non-null    int64  \n",
            " 17  Temp9am        366 non-null    float64\n",
            " 18  Temp3pm        366 non-null    float64\n",
            " 19  RainToday      366 non-null    object \n",
            " 20  RISK_MM        366 non-null    float64\n",
            " 21  RainTomorrow   366 non-null    object \n",
            "dtypes: float64(12), int64(5), object(5)\n",
            "memory usage: 63.0+ KB\n"
          ]
        }
      ],
      "source": [
        "data.info()"
      ]
    },
    {
      "cell_type": "code",
      "execution_count": null,
      "id": "017499fe",
      "metadata": {
        "colab": {
          "base_uri": "https://localhost:8080/"
        },
        "id": "017499fe",
        "outputId": "3e39b456-254c-4904-8fbf-418be346373c"
      },
      "outputs": [
        {
          "data": {
            "text/plain": [
              "0"
            ]
          },
          "execution_count": 4,
          "metadata": {},
          "output_type": "execute_result"
        }
      ],
      "source": [
        "data.duplicated().sum()"
      ]
    },
    {
      "cell_type": "code",
      "execution_count": null,
      "id": "0f861993",
      "metadata": {
        "id": "0f861993"
      },
      "outputs": [],
      "source": [
        "data = data.drop_duplicates()"
      ]
    },
    {
      "cell_type": "code",
      "execution_count": null,
      "id": "c25f5207",
      "metadata": {
        "colab": {
          "base_uri": "https://localhost:8080/"
        },
        "id": "c25f5207",
        "outputId": "d42b7481-045d-4215-c568-ca781a77de0a"
      },
      "outputs": [
        {
          "data": {
            "text/plain": [
              "MinTemp           0\n",
              "MaxTemp           0\n",
              "Rainfall          0\n",
              "Evaporation       0\n",
              "Sunshine          3\n",
              "WindGustDir       3\n",
              "WindGustSpeed     2\n",
              "WindDir9am       31\n",
              "WindDir3pm        1\n",
              "WindSpeed9am      7\n",
              "WindSpeed3pm      0\n",
              "Humidity9am       0\n",
              "Humidity3pm       0\n",
              "Pressure9am       0\n",
              "Pressure3pm       0\n",
              "Cloud9am          0\n",
              "Cloud3pm          0\n",
              "Temp9am           0\n",
              "Temp3pm           0\n",
              "RainToday         0\n",
              "RISK_MM           0\n",
              "RainTomorrow      0\n",
              "dtype: int64"
            ]
          },
          "execution_count": 6,
          "metadata": {},
          "output_type": "execute_result"
        }
      ],
      "source": [
        "data.isna().sum()"
      ]
    },
    {
      "cell_type": "code",
      "execution_count": null,
      "id": "9daf167e",
      "metadata": {
        "id": "9daf167e"
      },
      "outputs": [],
      "source": [
        "data = data.dropna()"
      ]
    },
    {
      "cell_type": "markdown",
      "id": "e3f6ffdb",
      "metadata": {
        "id": "e3f6ffdb"
      },
      "source": [
        "__________________________\n",
        "2- Data inspection. Use any relevant functions that can help you to understand the data. Use any necessary visualization techniques to inspect your data<br>\n"
      ]
    },
    {
      "cell_type": "code",
      "execution_count": null,
      "id": "9c06ca11",
      "metadata": {
        "id": "9c06ca11"
      },
      "outputs": [],
      "source": [
        "from sklearn.model_selection import train_test_split\n",
        "# Spliting the data to train and test data sets\n",
        "traindf , testdf = train_test_split(data, test_size = 0.2, random_state=2022)\n",
        "                                     # in other Scenario we can split it with date(using old data to predict new data)"
      ]
    },
    {
      "cell_type": "code",
      "execution_count": null,
      "id": "f56c84fb",
      "metadata": {
        "id": "f56c84fb"
      },
      "outputs": [],
      "source": [
        "X_train = traindf.drop('RainTomorrow', axis =1)\n",
        "y_train = (traindf['RainTomorrow']=='Yes').astype(int)\n",
        "X_test = testdf.drop('RainTomorrow', axis =1)\n",
        "y_test = (testdf['RainTomorrow']=='Yes').astype(int)"
      ]
    },
    {
      "cell_type": "code",
      "execution_count": null,
      "id": "bd48e953",
      "metadata": {
        "colab": {
          "base_uri": "https://localhost:8080/"
        },
        "id": "bd48e953",
        "outputId": "2924fb3a-0547-4365-a761-23d3c74e3aab"
      },
      "outputs": [
        {
          "name": "stdout",
          "output_type": "stream",
          "text": [
            "[]\n"
          ]
        }
      ],
      "source": [
        "#Repeated cols\n",
        "def find_repeated_cols(data , max_repetition):\n",
        "    #find the maximum allowed number of rows allowed to have the same value \n",
        "    max_allowed = max_repetition * data.shape[0]\n",
        "    \n",
        "    cols = list(data.columns)\n",
        "    repeated = []\n",
        "    \n",
        "    for i in cols:\n",
        "        if data[i].value_counts().iloc[0] > max_allowed:\n",
        "            repeated.append(i)\n",
        "            \n",
        "    return repeated\n",
        "to_drop = find_repeated_cols(X_train,0.9)\n",
        "X_train = X_train.drop(to_drop, axis=1)\n",
        "X_test = X_test.drop(to_drop, axis=1)\n",
        "print(to_drop)"
      ]
    },
    {
      "cell_type": "code",
      "execution_count": null,
      "id": "db3e2d78",
      "metadata": {
        "colab": {
          "base_uri": "https://localhost:8080/"
        },
        "id": "db3e2d78",
        "outputId": "dd3e440d-2e6d-4b91-e77c-706a509c945c"
      },
      "outputs": [
        {
          "name": "stdout",
          "output_type": "stream",
          "text": [
            "['MinTemp', 'MaxTemp', 'Rainfall', 'Evaporation', 'Sunshine', 'WindGustSpeed', 'WindSpeed9am', 'WindSpeed3pm', 'Humidity9am', 'Humidity3pm', 'Pressure9am', 'Pressure3pm', 'Cloud9am', 'Cloud3pm', 'Temp9am', 'Temp3pm', 'RISK_MM']\n",
            "['WindDir3pm', 'WindGustDir', 'RainToday', 'WindDir9am']\n"
          ]
        }
      ],
      "source": [
        "cols = X_train.columns\n",
        "num_cols = list(X_train.describe().columns)\n",
        "cat_cols = list(set(cols)-set(num_cols))\n",
        "print(num_cols)\n",
        "print(cat_cols)"
      ]
    },
    {
      "cell_type": "code",
      "execution_count": null,
      "id": "5dbe35ec",
      "metadata": {
        "colab": {
          "base_uri": "https://localhost:8080/"
        },
        "id": "5dbe35ec",
        "outputId": "1bb1cdca-d2c5-4223-aafd-65f2fa823fb3"
      },
      "outputs": [
        {
          "name": "stdout",
          "output_type": "stream",
          "text": [
            "['Humidity3pm', 'Temp9am', 'MaxTemp', 'Pressure9am', 'Temp3pm']\n"
          ]
        }
      ],
      "source": [
        "def find_corr_cols(X,y, num_cols ,corr_th):\n",
        "    corr_matrix = X[num_cols].corr()\n",
        "    corr_cols = []\n",
        "    for i in range(len(num_cols)):\n",
        "        for j in range(i+1,len(num_cols)):\n",
        "                if np.abs(corr_matrix.iloc[i,j]) > corr_th:\n",
        "\n",
        "                    corr_i = np.abs(np.corrcoef(X[num_cols[i]],y)[0,1])\n",
        "                    corr_j = np.abs(np.corrcoef(X[num_cols[j]],y)[0,1])\n",
        "                    \n",
        "                    if corr_i >= corr_j:\n",
        "                        corr_cols.append(num_cols[j])\n",
        "                    else:\n",
        "                        corr_cols.append(num_cols[i])\n",
        "    return list(set(corr_cols))\n",
        "\n",
        "to_drop=find_corr_cols(X_train,y_train, num_cols ,0.7)\n",
        "X_train = X_train.drop(to_drop, axis=1)\n",
        "X_test = X_test.drop(to_drop, axis=1)\n",
        "print(to_drop)"
      ]
    },
    {
      "cell_type": "code",
      "execution_count": null,
      "id": "209f9604",
      "metadata": {
        "colab": {
          "base_uri": "https://localhost:8080/"
        },
        "id": "209f9604",
        "outputId": "5b19ae0c-32f1-4b40-b3a2-cc3cb6379e34"
      },
      "outputs": [
        {
          "name": "stdout",
          "output_type": "stream",
          "text": [
            "['MinTemp', 'Rainfall', 'Evaporation', 'Sunshine', 'WindGustSpeed', 'WindSpeed9am', 'WindSpeed3pm', 'Humidity9am', 'Pressure3pm', 'Cloud9am', 'Cloud3pm', 'RISK_MM']\n",
            "['WindDir3pm', 'WindGustDir', 'RainToday', 'WindDir9am']\n"
          ]
        }
      ],
      "source": [
        "cols = X_train.columns\n",
        "num_cols = list(X_train.describe().columns)\n",
        "cat_cols = list(set(cols)-set(num_cols))\n",
        "print(num_cols)\n",
        "print(cat_cols)"
      ]
    },
    {
      "cell_type": "code",
      "execution_count": null,
      "id": "97724305",
      "metadata": {
        "id": "97724305"
      },
      "outputs": [],
      "source": [
        "def outliers_ths(X, th):\n",
        "    desc = X.describe()\n",
        "    Q1 = desc.loc['25%',:]\n",
        "    Q3 = desc.loc['75%',:]\n",
        "    IQR = Q3 - Q1\n",
        "    Upper = Q3 + th*IQR.values\n",
        "    Lower = Q1 - th*IQR.values\n",
        "    return Upper, Lower\n",
        "Upper , Lower = outliers_ths(traindf[num_cols], 5)\n",
        "\n",
        "for i in range(len(num_cols)):\n",
        "            col = num_cols[i]\n",
        "            X_train.loc[X_train[col]<Lower[i], col] = Lower[i]\n",
        "            X_train.loc[X_train[col]>Upper[i], col] = Upper[i]\n",
        "            \n",
        "            X_test.loc[X_test[col]<Lower[i], col] = Lower[i]\n",
        "            X_test.loc[X_test[col]>Upper[i], col] = Upper[i]"
      ]
    },
    {
      "cell_type": "code",
      "execution_count": null,
      "id": "9747b05e",
      "metadata": {
        "colab": {
          "base_uri": "https://localhost:8080/"
        },
        "id": "9747b05e",
        "outputId": "6a82fc26-715c-45f1-c61e-f0a2ebdc9fbb"
      },
      "outputs": [
        {
          "name": "stdout",
          "output_type": "stream",
          "text": [
            "['Rainfall', 'WindSpeed9am', 'RISK_MM']\n"
          ]
        }
      ],
      "source": [
        "def skewed_cols(X, num_cols):\n",
        "    skewed = []\n",
        "    for i in num_cols:\n",
        "            var_avg = X[i].mean()\n",
        "            var_std = X[i].std()\n",
        "            sk = (((X[i]-var_avg)/var_std)**3).sum() / X.shape[0]\n",
        "            if  np.abs(sk) > 1 :\n",
        "                skewed.append(i)\n",
        "    return skewed\n",
        "\n",
        "log_trans = skewed_cols(X_train[num_cols],num_cols)\n",
        "for i in log_trans:\n",
        "    X_train[i] = np.log(1+np.abs(X_train[i]))\n",
        "    X_test[i] = np.log(1+np.abs(X_test[i]))\n",
        "print(log_trans)"
      ]
    },
    {
      "cell_type": "code",
      "execution_count": null,
      "id": "a69df5b0",
      "metadata": {
        "colab": {
          "base_uri": "https://localhost:8080/"
        },
        "id": "a69df5b0",
        "outputId": "738b1ae0-4180-410b-8fbf-12a0492158c1"
      },
      "outputs": [
        {
          "name": "stdout",
          "output_type": "stream",
          "text": [
            "Standard Scaler:  ['WindGustSpeed', 'Pressure3pm']\n",
            "Min Max Scaler:  ['MinTemp', 'Rainfall', 'Evaporation', 'Sunshine', 'WindSpeed9am', 'WindSpeed3pm', 'Humidity9am', 'Cloud9am', 'Cloud3pm', 'RISK_MM']\n"
          ]
        }
      ],
      "source": [
        "from scipy.stats import shapiro\n",
        "from sklearn.preprocessing import StandardScaler, MinMaxScaler\n",
        "def sh_test(X, num_cols, shapiro_alpha):\n",
        "    gaussian = []\n",
        "    non_gaussian = []\n",
        "\n",
        "    for i in num_cols:\n",
        "        if shapiro(np.array(X[i].sample(100,random_state =0)))[1] > shapiro_alpha:\n",
        "            gaussian.append(i)\n",
        "        else: \n",
        "            non_gaussian.append(i)\n",
        "    return gaussian, non_gaussian\n",
        "gaussian, non_gaussian = sh_test(X_train, num_cols, 0.05)\n",
        "\n",
        "if len(gaussian) >0:    \n",
        "    StandardScaler1 = StandardScaler()\n",
        "    X_train[gaussian] = StandardScaler1.fit_transform(X_train[gaussian])\n",
        "    X_test[gaussian] = StandardScaler1.transform(X_test[gaussian]) \n",
        "if len(non_gaussian) >0:\n",
        "    MinMaxScaler1 = MinMaxScaler()\n",
        "    X_train[non_gaussian] = MinMaxScaler1.fit_transform(X_train[non_gaussian])\n",
        "    X_test[non_gaussian] = MinMaxScaler1.transform(X_test[non_gaussian]) \n",
        "print('Standard Scaler: ' ,gaussian)\n",
        "print('Min Max Scaler: ', non_gaussian)"
      ]
    },
    {
      "cell_type": "code",
      "execution_count": null,
      "id": "adb4ba24",
      "metadata": {
        "id": "adb4ba24"
      },
      "outputs": [],
      "source": [
        "#encoding the categorical variables # one hot encoding , binary encoding (only for rain today)\n",
        "X_train['RainToday'] =(X_train['RainToday']=='Yes').astype(int)\n",
        "X_test['RainToday'] =(X_test['RainToday']=='Yes').astype(int)"
      ]
    },
    {
      "cell_type": "code",
      "execution_count": null,
      "id": "f30a0a48",
      "metadata": {
        "id": "f30a0a48"
      },
      "outputs": [],
      "source": [
        "OHE = list(set(cat_cols)-set(['RainToday']))\n",
        "for i in range(len(OHE)):\n",
        "    nominal_vals= X_train[OHE[i]].unique()\n",
        "    for j in nominal_vals:\n",
        "        col ='{}_{}'.format(OHE[i],j)   \n",
        "        X_train.loc[X_train[OHE[i]]==j,col] =1\n",
        "        X_train[col] = X_train[col].fillna(0).astype(int)\n",
        "        \n",
        "        X_test.loc[X_test[OHE[i]]==j,col] =1\n",
        "        X_test[col] = X_test[col].fillna(0).astype(int)\n",
        "        \n",
        "    X_train = X_train.drop(OHE[i] , axis=1)\n",
        "    X_test = X_test.drop(OHE[i] , axis=1)"
      ]
    },
    {
      "cell_type": "code",
      "execution_count": null,
      "id": "10a8bc6b",
      "metadata": {
        "colab": {
          "base_uri": "https://localhost:8080/"
        },
        "id": "10a8bc6b",
        "outputId": "08eba428-978e-461e-a32e-4bbd9a20fb41"
      },
      "outputs": [
        {
          "name": "stdout",
          "output_type": "stream",
          "text": [
            "mindatory class size is 0.183 from the data set \n"
          ]
        }
      ],
      "source": [
        "# data imbalance \n",
        "print('mindatory class size is {:.3} from the data set '.format (y_train.mean()))"
      ]
    },
    {
      "cell_type": "code",
      "execution_count": null,
      "id": "6296b14e",
      "metadata": {
        "id": "6296b14e"
      },
      "outputs": [],
      "source": [
        "#under-sampling traindata set\n",
        "under_sampling_size = y_train.sum()\n",
        "\n",
        "X_train_undersampled = X_train[y_train==0].sample(under_sampling_size , replace=False, random_state=1)\n",
        "X_train_undersampled = pd.concat([X_train_undersampled, X_train[y_train==1]], axis=0)\n",
        "\n",
        "y_train_undersampled = np.zeros((X_train_undersampled.shape[0]))\n",
        "y_train_undersampled[under_sampling_size:] = 1"
      ]
    },
    {
      "cell_type": "code",
      "execution_count": null,
      "id": "dfe27300",
      "metadata": {
        "colab": {
          "base_uri": "https://localhost:8080/"
        },
        "id": "dfe27300",
        "outputId": "d59354e8-30bb-4ed5-ee34-78eb2da3de27"
      },
      "outputs": [
        {
          "data": {
            "text/plain": [
              "(262, 61)"
            ]
          },
          "execution_count": 21,
          "metadata": {},
          "output_type": "execute_result"
        }
      ],
      "source": [
        "X_train.shape"
      ]
    },
    {
      "cell_type": "markdown",
      "id": "ed40ae87",
      "metadata": {
        "id": "ed40ae87"
      },
      "source": [
        "__________________________\n",
        "3- Explore the selection of various feature variables for classification. You should include at least one categorical feature.<br>"
      ]
    },
    {
      "cell_type": "code",
      "execution_count": null,
      "id": "39bd2ede",
      "metadata": {
        "id": "39bd2ede",
        "outputId": "f7b5638a-a8d5-46a8-d793-ace5a34d036d"
      },
      "outputs": [
        {
          "data": {
            "text/plain": [
              "<AxesSubplot:>"
            ]
          },
          "execution_count": 22,
          "metadata": {},
          "output_type": "execute_result"
        },
        {
          "data": {
            "image/png": "[encoded data removed]",
            "text/plain": [
              "<Figure size 432x288 with 2 Axes>"
            ]
          },
          "metadata": {
            "needs_background": "light"
          },
          "output_type": "display_data"
        }
      ],
      "source": [
        "traindf1= X_train[num_cols].copy()\n",
        "traindf1['RainTomorrow']= y_train\n",
        "import seaborn as sns\n",
        "sns.heatmap(traindf1.corr(),cmap = 'RdYlGn')"
      ]
    },
    {
      "cell_type": "markdown",
      "id": "687ff2ab",
      "metadata": {
        "id": "687ff2ab"
      },
      "source": [
        "## <font color = darkgreen>it seems that RISK_MM has the highest effect in target variable<br> most of features has no significant effect </font> "
      ]
    },
    {
      "cell_type": "markdown",
      "id": "1bc89ea9",
      "metadata": {
        "id": "1bc89ea9"
      },
      "source": [
        "_________________\n",
        "4- Classify the data using various classification methods explored in ML1 (logistic regression, SVC, Decision trees, SVC, KNN classifier). Explore using different model parameters in the built-in sklearn libraries.<br>"
      ]
    },
    {
      "cell_type": "code",
      "execution_count": null,
      "id": "37d4cb26",
      "metadata": {
        "id": "37d4cb26"
      },
      "outputs": [],
      "source": [
        "from sklearn.linear_model import LogisticRegression\n",
        "from sklearn.svm import SVC\n",
        "from sklearn.tree import DecisionTreeClassifier\n",
        "from sklearn.ensemble import RandomForestClassifier\n",
        "from sklearn.neighbors import KNeighborsClassifier\n",
        "\n",
        "from sklearn.metrics import f1_score\n",
        "from sklearn.metrics import recall_score\n",
        "from sklearn.metrics import roc_curve\n",
        "from sklearn.metrics import roc_auc_score"
      ]
    },
    {
      "cell_type": "code",
      "execution_count": null,
      "id": "2f79222e",
      "metadata": {
        "colab": {
          "base_uri": "https://localhost:8080/",
          "height": 296
        },
        "id": "2f79222e",
        "outputId": "15ca7dbf-58ab-470c-9dd5-e70dfd324c95"
      },
      "outputs": [
        {
          "name": "stdout",
          "output_type": "stream",
          "text": [
            "Area Under ROC curve : 0.9991319444444444\n"
          ]
        },
        {
          "data": {
            "image/png": "[encoded data removed]",
            "text/plain": [
              "<Figure size 432x288 with 1 Axes>"
            ]
          },
          "metadata": {
            "needs_background": "light"
          },
          "output_type": "display_data"
        }
      ],
      "source": [
        "LogReg = LogisticRegression()\n",
        "LogReg.fit(X_train_undersampled, y_train_undersampled)\n",
        "\n",
        "y_proba = LogReg.predict_proba(X_train_undersampled)[:,1]\n",
        "fpr , tpr , ths= roc_curve(y_train_undersampled, y_proba)\n",
        "\n",
        "print('Area Under ROC curve :' , roc_auc_score(y_train_undersampled, y_proba))\n",
        "plt.plot(fpr,tpr);\n",
        "plt.xlabel('False Positive Rate');\n",
        "plt.ylabel('True Positive Rate');\n"
      ]
    },
    {
      "cell_type": "code",
      "execution_count": null,
      "id": "50ffbd3d",
      "metadata": {
        "colab": {
          "base_uri": "https://localhost:8080/"
        },
        "id": "50ffbd3d",
        "outputId": "a2b30686-4a2f-488f-f7d1-9092d65f6ad5"
      },
      "outputs": [
        {
          "name": "stdout",
          "output_type": "stream",
          "text": [
            "threshold :  0.8212177893487075\n",
            " train f1 : 0.967741935483871 \n",
            " test f1 0.8571428571428571\n"
          ]
        }
      ],
      "source": [
        "th = ths[np.where(tpr>0.55)[0][0]]\n",
        "print('threshold : ' , th)\n",
        "\n",
        "y_hat_train = ((LogReg.predict_proba(X_train_undersampled)>th)[:,1]).astype(int)\n",
        "\n",
        "train_f1= f1_score(y_train_undersampled, y_hat_train)\n",
        "\n",
        "y_hat_test = ((LogReg.predict_proba(X_test)>th)[:,1]).astype(int)\n",
        "test_f1= f1_score(y_test , y_hat_test)\n",
        "print(' train f1 : {} \\n test f1 {}'.format(train_f1, test_f1))"
      ]
    },
    {
      "cell_type": "code",
      "execution_count": null,
      "id": "8733352c",
      "metadata": {
        "colab": {
          "base_uri": "https://localhost:8080/"
        },
        "id": "8733352c",
        "outputId": "fd39608a-de76-43bd-ae59-5452a40cb6c9"
      },
      "outputs": [
        {
          "name": "stdout",
          "output_type": "stream",
          "text": [
            "kernal : linear\n",
            "Choosed parameter :\n",
            " C =  3.0     \n",
            " max_test_f1:  1.0\n"
          ]
        }
      ],
      "source": [
        "Cs = np.linspace(1,30,30)\n",
        "\n",
        "kernals = ['linear', 'poly','rbf']\n",
        "print('kernal : {}'.format(kernals[0]))\n",
        "#print ('              C      train_f1      test_f1')\n",
        "\n",
        "max_f1 = 0\n",
        "choosed_c = 0\n",
        "\n",
        "for c in Cs:\n",
        "    model = SVC(C =c , kernel=kernals [0])\n",
        "    model.fit(X_train_undersampled , y_train_undersampled)\n",
        "    y_hat = model.predict(X_train_undersampled)\n",
        "    train_f1= f1_score(y_train_undersampled , y_hat)\n",
        "\n",
        "    y_hat_test = model.predict(X_test)\n",
        "    test_f1= f1_score(y_test , y_hat_test)\n",
        "    \n",
        "    if test_f1 > max_f1:\n",
        "        max_f1 = test_f1 \n",
        "        choosed_c = c\n",
        "\n",
        " #   print('              ',\"{:.3}\".format(c),'        ',\"{:.3}\".format(train_f1),\n",
        "  #        '      ','     ',\"{:.3}\".format(test_f1)  )\n",
        "print('Choosed parameter :\\n C = ',choosed_c , '    \\n max_test_f1: ',max_f1)\n"
      ]
    },
    {
      "cell_type": "code",
      "execution_count": null,
      "id": "81779e37",
      "metadata": {
        "colab": {
          "base_uri": "https://localhost:8080/",
          "height": 415
        },
        "id": "81779e37",
        "outputId": "51760d18-83d2-433d-e985-f4b2ce0aa537"
      },
      "outputs": [
        {
          "name": "stdout",
          "output_type": "stream",
          "text": [
            "kernal : poly\n",
            "Choosed parameters :\n",
            "  {'c': 1.0, 'degree': 7, 'gamma': 0.0001}     \n",
            " max_test_f1:  0.3793103448275862\n"
          ]
        }
      ],
      "source": [
        "print('kernal : {}'.format(kernals[1]))\n",
        "#print ('              C    d    gamma      train_f1   test_f1')\n",
        "Degree = [2,3,4,5,6,7]\n",
        "g  = .0001\n",
        "max_f1 = 0\n",
        "choosed_parameters_poly ={'c':0,'degree':0,'gamma':0}\n",
        "for i in range(5):\n",
        "    for d in Degree: \n",
        "        for c in Cs:\n",
        "            model = SVC(C =c , kernel=kernals[1], degree=d , gamma =g )\n",
        "            model.fit(X_train_undersampled , y_train_undersampled)\n",
        "            y_hat = model.predict(X_train_undersampled)\n",
        "            train_f1= f1_score(y_train_undersampled , y_hat)\n",
        "\n",
        "            y_hat_test = model.predict(X_test)\n",
        "            test_f1= f1_score(y_test , y_hat_test)\n",
        "\n",
        "            if test_f1 >max_f1:\n",
        "                max_f1 = test_f1\n",
        "                choosed_parameters_poly['c']=c\n",
        "                choosed_parameters_poly['degree']=d\n",
        "                choosed_parameters_poly['gamma']=g\n",
        "\n",
        " #           print('            ',\"{:.3}\".format(c),'  ',d,' ',\"{:.4}\".format(g),'          ',\"{:.3}\".format(train_f1),\n",
        "  #                '     ',\"{:.3}\".format(test_f1)  )\n",
        "    g = g+0.0005\n",
        "\n",
        "print('Choosed parameters :\\n ', choosed_parameters_poly,'    \\n max_test_f1: ',max_f1)\n",
        "\n"
      ]
    },
    {
      "cell_type": "code",
      "execution_count": null,
      "id": "6661a0a8",
      "metadata": {
        "id": "6661a0a8",
        "outputId": "774e0ca1-a3c0-4790-9afd-6253dbcda78c"
      },
      "outputs": [
        {
          "name": "stdout",
          "output_type": "stream",
          "text": [
            "kernal : rbf\n",
            "Choosed parameters :\n",
            "  {'c': 2.0, 'gamma': 0.040100000000000004}     \n",
            " max_test_f1:  0.8571428571428571\n"
          ]
        }
      ],
      "source": [
        "print('kernal : {}'.format(kernals[2]))\n",
        "#print ('              C    gamma      train_f1     test_f1')\n",
        "\n",
        "g  = .0001\n",
        "max_f1 = 0\n",
        "gammas = []\n",
        "F1_score=[]\n",
        "choosed_parameters_rbf ={'c':0,'gamma':0}\n",
        "for i in range(20): \n",
        "    gammas.append(g)\n",
        "    f1 = []\n",
        "    for c in Cs:\n",
        "        model = SVC(C =c , kernel=kernals[2] , gamma =g )\n",
        "        model.fit(X_train_undersampled , y_train_undersampled)\n",
        "        y_hat = model.predict(X_train_undersampled)\n",
        "        train_f1= f1_score(y_train_undersampled , y_hat)\n",
        " \n",
        "        y_hat_test = model.predict(X_test)\n",
        "        test_f1= f1_score(y_test , y_hat_test)\n",
        "        f1.append([train_f1 , test_f1])\n",
        "        if test_f1 >max_f1:\n",
        "            max_f1 = test_f1\n",
        "            choosed_parameters_rbf['c']=c\n",
        "            choosed_parameters_rbf['gamma']=g\n",
        "    F1_score.append(f1)\n",
        " #       print('            ',\"{:.3}\".format(c),'  ',\"{:.4}\".format(g),'         ',\"{:.3}\".format(train_f1),\n",
        "  #            '     ',\"{:.3}\".format(test_f1)  )\n",
        "    g = g+0.04\n",
        "\n",
        "print('Choosed parameters :\\n ', choosed_parameters_rbf,'    \\n max_test_f1: ',max_f1 )"
      ]
    },
    {
      "cell_type": "code",
      "execution_count": null,
      "id": "3d6d6886",
      "metadata": {
        "id": "3d6d6886",
        "outputId": "34688dbd-e92e-4c1e-b783-f7a6529f7ba6"
      },
      "outputs": [
        {
          "name": "stdout",
          "output_type": "stream",
          "text": [
            "Choosed parameters for Decision Tree model : \n",
            "{'max_depth': 3, 'min_samples_split': 2, 'min_samples_leaf': 1, 'max_features': 4, 'max_leaf_nodes': 20, 'ccp_alpha': 0.001}\n",
            "test_f1:  1.0\n"
          ]
        }
      ],
      "source": [
        "# Decision Tree \n",
        "\n",
        "max_f1 = 0\n",
        "choosedDT = {}\n",
        "for i in range(3,100):\n",
        "    DT = DecisionTreeClassifier(max_depth= i , random_state = 2022)\n",
        "    DT.fit(X_train , y_train)\n",
        "    test_score = f1_score(y_test, DT.predict(X_test))\n",
        "    if test_score > max_f1:\n",
        "        max_f1 = test_score\n",
        "        choosedDT['max_depth'] = i\n",
        "\n",
        "max_f1 = 0\n",
        "for i in range(2,100):\n",
        "    DT = DecisionTreeClassifier(max_depth= choosedDT['max_depth'],min_samples_split=i , random_state = 2022)\n",
        "    DT.fit(X_train , y_train)\n",
        "    test_score = f1_score(y_test, DT.predict(X_test))\n",
        "    if test_score > max_f1:\n",
        "        max_f1 = test_score\n",
        "        choosedDT['min_samples_split'] = i\n",
        "\n",
        "max_f1 = 0\n",
        "for i in range(1,100):\n",
        "    DT = DecisionTreeClassifier(max_depth= choosedDT['max_depth'],min_samples_split=choosedDT['min_samples_split'] ,\n",
        "                                min_samples_leaf=i , random_state = 2022)\n",
        "    DT.fit(X_train , y_train)\n",
        "    test_score = f1_score(y_test, DT.predict(X_test))\n",
        "    if test_score > max_f1:\n",
        "        max_f1 = test_score\n",
        "        choosedDT['min_samples_leaf'] = i\n",
        "\n",
        "max_f1=0\n",
        "for i in range(1,X_train.shape[1]+1):\n",
        "    DT = DecisionTreeClassifier(max_depth= choosedDT['max_depth'],min_samples_split=choosedDT['min_samples_split'] ,\n",
        "                                min_samples_leaf=choosedDT['min_samples_leaf'], max_features= i, random_state = 2022)\n",
        "    DT.fit(X_train , y_train)\n",
        "    test_score = f1_score(y_test, DT.predict(X_test))\n",
        "    if test_score > max_f1:\n",
        "        max_f1 = test_score\n",
        "        choosedDT['max_features'] = i\n",
        "\n",
        "max_f1 = 0\n",
        "for i in range(2,1000):\n",
        "    DT = DecisionTreeClassifier(max_depth= choosedDT['max_depth'],min_samples_split=choosedDT['min_samples_split'] ,\n",
        "                                min_samples_leaf=choosedDT['min_samples_leaf'], max_features= choosedDT['max_features'],\n",
        "                                max_leaf_nodes= i*10 , random_state = 2022)\n",
        "    DT.fit(X_train , y_train)\n",
        "    test_score = f1_score(y_test, DT.predict(X_test))\n",
        "    if test_score > max_f1:\n",
        "        max_f1 = test_score\n",
        "        choosedDT['max_leaf_nodes'] = i*10\n",
        "\n",
        "max_f1 = 0\n",
        "for i in range(1,100):\n",
        "    DT = DecisionTreeClassifier(max_depth= choosedDT['max_depth'],min_samples_split=choosedDT['min_samples_split'] ,\n",
        "                                min_samples_leaf=choosedDT['min_samples_leaf'], max_features= choosedDT['max_features'],\n",
        "                                ccp_alpha=0.001 *i , random_state = 2022)\n",
        "    DT.fit(X_train , y_train)\n",
        "    test_score = f1_score(y_test, DT.predict(X_test))\n",
        "    if test_score > max_f1:\n",
        "        max_f1 = test_score\n",
        "        choosedDT['ccp_alpha'] = 0.001*i\n",
        "        \n",
        "print('Choosed parameters for Decision Tree model : ')\n",
        "print(choosedDT)\n",
        "DT = DecisionTreeClassifier(max_depth= choosedDT['max_depth'],min_samples_split=choosedDT['min_samples_split'] ,\n",
        "                                min_samples_leaf=choosedDT['min_samples_leaf'], max_features= choosedDT['max_features'],\n",
        "                                random_state = 2022)\n",
        "DT.fit(X_train, y_train)\n",
        "print('test_f1: ' , f1_score(y_test, DT.predict(X_test)))"
      ]
    },
    {
      "cell_type": "code",
      "execution_count": null,
      "id": "cf9ca702",
      "metadata": {
        "id": "cf9ca702",
        "outputId": "6cdc8ab7-8ce8-4bda-c44c-2dd5fa6d41ad"
      },
      "outputs": [
        {
          "name": "stdout",
          "output_type": "stream",
          "text": [
            "Bootstrap = False\n",
            "test_f1:  0.9565217391304348\n",
            "Bootstrap = True\n",
            "test_f1:  1.0\n",
            "Random Forest :  {'max_depth': 9, 'min_samples_split': 3, 'min_samples_leaf': 1, 'max_features': 6, 'max_leaf_nodes': 200, 'ccp_alpha': 0.001, 'n_estimators': 35}\n",
            "test_f1:  1.0\n"
          ]
        }
      ],
      "source": [
        "max_f1 = 0\n",
        "choosedRF = {}\n",
        "for i in range(3,100):\n",
        "    RF = RandomForestClassifier(max_depth= i , random_state = 2022)\n",
        "    RF.fit(X_train , y_train)\n",
        "    test_score = f1_score(y_test, RF.predict(X_test))\n",
        "    if test_score > max_f1:\n",
        "        max_f1 = test_score\n",
        "        choosedRF['max_depth'] = i\n",
        "\n",
        "max_f1 = 0\n",
        "for i in range(2,100):\n",
        "    RF = RandomForestClassifier(max_depth= choosedRF['max_depth'],min_samples_split=i , random_state = 2022)\n",
        "    RF.fit(X_train , y_train)\n",
        "    test_score = f1_score(y_test, RF.predict(X_test))\n",
        "    if test_score > max_f1:\n",
        "        max_f1 = test_score\n",
        "        choosedRF['min_samples_split'] = i\n",
        "\n",
        "max_f1 = 0\n",
        "for i in range(1,100):\n",
        "    RF = RandomForestClassifier(max_depth= choosedRF['max_depth'],min_samples_split=choosedRF['min_samples_split'] ,\n",
        "                                min_samples_leaf=i , random_state = 2022)\n",
        "    RF.fit(X_train , y_train)\n",
        "    test_score = f1_score(y_test, RF.predict(X_test))\n",
        "    if test_score > max_f1:\n",
        "        max_f1 = test_score\n",
        "        choosedRF['min_samples_leaf'] = i\n",
        "        \n",
        "max_f1 = 0\n",
        "for i in range(1,X_train.shape[1]+1):\n",
        "    RF = RandomForestClassifier(max_depth= choosedRF['max_depth'], min_samples_split=choosedRF['min_samples_split'] ,\n",
        "                                min_samples_leaf=choosedRF['min_samples_leaf'], max_features= i, random_state = 2022)\n",
        "    RF.fit(X_train , y_train)\n",
        "    test_score = f1_score(y_test, RF.predict(X_test))\n",
        "    if test_score > max_f1:\n",
        "        max_f1 = test_score\n",
        "        choosedRF['max_features'] = i\n",
        "\n",
        "max_f1 = 0\n",
        "for i in range(2,100):\n",
        "    RF = RandomForestClassifier(max_depth= choosedRF['max_depth'],min_samples_split=choosedRF['min_samples_split'] ,\n",
        "                                min_samples_leaf=choosedRF['min_samples_leaf'], max_features= choosedRF['max_features'],\n",
        "                                max_leaf_nodes= i*100 , random_state = 2022)\n",
        "    RF.fit(X_train , y_train)\n",
        "    test_score = f1_score(y_test, RF.predict(X_test))\n",
        "    if test_score > max_f1:\n",
        "        max_f1 = test_score\n",
        "        choosedRF['max_leaf_nodes'] = i*100\n",
        "\n",
        "max_f1 = 0\n",
        "for i in range(1,100):\n",
        "    RF = RandomForestClassifier(max_depth= choosedRF['max_depth'],min_samples_split=choosedRF['min_samples_split'] ,\n",
        "                                min_samples_leaf=choosedRF['min_samples_leaf'], max_features= choosedRF['max_features'],\n",
        "                                ccp_alpha=0.001 *i , random_state = 2022)\n",
        "    RF.fit(X_train , y_train)\n",
        "    test_score = f1_score(y_test, RF.predict(X_test))\n",
        "    if test_score > max_f1:\n",
        "        max_f1 = test_score\n",
        "        choosedRF['ccp_alpha'] = 0.001*i\n",
        "\n",
        "max_f1 = 0\n",
        "for i in range(1,100):\n",
        "    RF = RandomForestClassifier(max_depth= choosedRF['max_depth'],min_samples_split=choosedRF['min_samples_split'] ,\n",
        "                                n_estimators = 5*i , random_state = 2022)\n",
        "    RF.fit(X_train , y_train)\n",
        "    test_score = f1_score(y_test, RF.predict(X_test))\n",
        "    if test_score > max_f1:\n",
        "        max_f1 = test_score\n",
        "        choosedRF['n_estimators'] = 5*i\n",
        "\n",
        "max_f1 = 0\n",
        "max_s = X_train.shape[0]\n",
        "for i in range(100, int(max_s/100)):\n",
        "    RF = RandomForestClassifier(max_depth= choosedRF['max_depth'],min_samples_split=choosedRF['min_samples_split'] ,\n",
        "                                n_estimators = choosedRF['n_estimators'], max_samples=i*100 , random_state = 2022)\n",
        "    RF.fit(X_train , y_train)\n",
        "    test_score = f1_score(y_test, RF.predict(X_test))\n",
        "    if test_score > max_f1:\n",
        "        max_f1 = test_score\n",
        "        choosedRF['max_samples'] = i*100\n",
        "        \n",
        "        \n",
        "print('Bootstrap = False')\n",
        "RF = RandomForestClassifier(max_depth= choosedRF['max_depth'],min_samples_split=choosedRF['min_samples_split'] ,\n",
        "                            n_estimators = choosedRF['n_estimators'] , bootstrap = False, random_state = 2022)\n",
        "RF.fit(X_train , y_train)\n",
        "test_score = f1_score(y_test, RF.predict(X_test))\n",
        "print('test_f1: ' , test_score)\n",
        "\n",
        "print('Bootstrap = True')\n",
        "RF = RandomForestClassifier(max_depth= choosedRF['max_depth'],min_samples_split=choosedRF['min_samples_split'] ,\n",
        "                            n_estimators = choosedRF['n_estimators'] , bootstrap = True, random_state = 2022)\n",
        "RF.fit(X_train , y_train)\n",
        "test_score = f1_score(y_test, RF.predict(X_test))\n",
        "print('test_f1: ' , test_score)\n",
        "\n",
        "\n",
        "\n",
        "\n",
        "        \n",
        "print('Random Forest : ', choosedRF)\n",
        "print('test_f1: ' , test_score)\n",
        "\n"
      ]
    },
    {
      "cell_type": "code",
      "execution_count": null,
      "id": "2a8fdaf8",
      "metadata": {
        "id": "2a8fdaf8",
        "outputId": "4631cbf6-b8b1-4b0b-90f1-6393930efd36"
      },
      "outputs": [
        {
          "name": "stdout",
          "output_type": "stream",
          "text": [
            "p      train_fl_score      test_f1_socre\n",
            "1          0.847            0.762\n",
            "2          0.747            0.667\n",
            "3          0.659            0.636\n",
            "4          0.675            0.571\n",
            "{'p': 1}\n",
            "test_f1:  0.761904761904762\n"
          ]
        }
      ],
      "source": [
        "#KNN\n",
        "#a)tuning of different p values in the Minkowski distance metric \n",
        "choosed ={}\n",
        "max_f1 = 0\n",
        "print ( 'p      train_fl_score      test_f1_socre')\n",
        "for i in range(1,5):\n",
        "    KNN = KNeighborsClassifier(metric='minkowski', p =i )\n",
        "    KNN.fit(X_train, y_train)\n",
        "    train_score= f1_score(y_train, KNN.predict(X_train))\n",
        "    test_score = f1_score(y_test, KNN.predict(X_test))\n",
        "    if test_score > max_f1:\n",
        "        max_f1 = test_score\n",
        "        choosed['p'] = i\n",
        "    print('{}          {:.3}            {:.3}'.format(i, train_score, test_score))\n",
        "print(choosed)\n",
        "print('test_f1: ' , max_f1)"
      ]
    },
    {
      "cell_type": "code",
      "execution_count": null,
      "id": "660adbce",
      "metadata": {
        "id": "660adbce",
        "outputId": "926a5888-3751-4412-e0ec-1f739420ce0b"
      },
      "outputs": [
        {
          "name": "stdout",
          "output_type": "stream",
          "text": [
            "{'p': 1, 'neighbors': 5}\n",
            "test_f1:  0.761904761904762\n"
          ]
        }
      ],
      "source": [
        "#b. try different N_neighbors\n",
        "max_f1 = 0\n",
        "for i in range(1,50):\n",
        "    KNN = KNeighborsClassifier(metric='minkowski', p =choosed['p'],n_neighbors = i*5)\n",
        "    KNN.fit(X_train, y_train)\n",
        "    test_score = f1_score(y_test, KNN.predict(X_test))\n",
        "    if test_score > max_f1:\n",
        "        max_f1 = test_score\n",
        "        choosed['neighbors'] = i*5\n",
        "print(choosed)\n",
        "print('test_f1: ' , max_f1)"
      ]
    },
    {
      "cell_type": "code",
      "execution_count": null,
      "id": "3c9ca3a9",
      "metadata": {
        "id": "3c9ca3a9",
        "outputId": "7c02620a-20c7-4d7c-81ba-0e2074a375d1"
      },
      "outputs": [
        {
          "name": "stdout",
          "output_type": "stream",
          "text": [
            "weights:  uniform\n",
            "train f1_score :  0.7469879518072288\n",
            "test f1_score:  0.6666666666666666\n",
            "weights:  distance\n",
            "train f1_score :  1.0\n",
            "test f1_score:  0.6666666666666666\n"
          ]
        }
      ],
      "source": [
        "#c. Try ‘uniform’ and ‘distance’ options in the weights hyper-parameter\n",
        "weights = ['uniform' , 'distance']\n",
        "max_f1 = 0\n",
        "for w in weights: \n",
        "    print('weights: ' ,w )\n",
        "    KNN = KNeighborsClassifier(weights = w)\n",
        "    KNN.fit(X_train, y_train)\n",
        "    test_f1 = f1_score(y_test, KNN.predict(X_test))\n",
        "    if test_f1 > max_f1:\n",
        "        max_f1 = test_f1\n",
        "        choosed['weights'] = w\n",
        "    print('train f1_score : ', f1_score(y_train, KNN.predict(X_train)))\n",
        "    print('test f1_score: ',test_f1 )"
      ]
    },
    {
      "cell_type": "code",
      "execution_count": null,
      "id": "5ce8c114",
      "metadata": {
        "id": "5ce8c114",
        "outputId": "bd3907cd-2479-42bc-bfbe-1f509704d596"
      },
      "outputs": [
        {
          "name": "stdout",
          "output_type": "stream",
          "text": [
            "Choosed Parameters for KNN model:\n",
            "{'p': 1, 'neighbors': 5, 'weights': 'uniform'}\n",
            "test f1_score:  0.761904761904762\n"
          ]
        }
      ],
      "source": [
        "#Use different combinations of p and N_neighbors to find the best hyper-parameters that best classify the test data\n",
        "print('Choosed Parameters for KNN model:')\n",
        "print(choosed)\n",
        "\n",
        "KNN = KNeighborsClassifier(metric='minkowski', p =choosed['p'],n_neighbors = choosed['neighbors'],\n",
        "                           weights = choosed['weights'])\n",
        "KNN.fit(X_train, y_train)\n",
        "test_score = f1_score(y_test, KNN.predict(X_test))\n",
        "print('test f1_score: ',test_score )   "
      ]
    },
    {
      "cell_type": "markdown",
      "id": "0e34e421",
      "metadata": {
        "id": "0e34e421"
      },
      "source": [
        "_______________________\n",
        "5- Explore the use of your own implementations of each Model. Comment on your results.<br>"
      ]
    },
    {
      "cell_type": "code",
      "execution_count": null,
      "id": "83427d7f",
      "metadata": {
        "id": "83427d7f"
      },
      "outputs": [],
      "source": [
        "def initialize(X, bias = True):\n",
        "    if bias:\n",
        "        weights = np.zeros((X.shape[1]+1,1))\n",
        "        X = np.c_[np.ones((X.shape[0],1)),X]\n",
        "    else:\n",
        "        weights = np.zeros((X.shape[1],1))\n",
        "    return weights,X\n",
        "\n",
        "def sigmoid(z):\n",
        "    sig = 1/(1 + np.e**(-z))\n",
        "    return sig\n",
        "\n",
        "def cost(X, y, theta):\n",
        "    z = np.dot(X,theta)\n",
        "    cost0 = y.T.dot(np.log(sigmoid(z)))\n",
        "    cost1 = (1-y).T.dot(np.log(1-sigmoid(z)))\n",
        "    cost = -((cost1 + cost0))/len(y) \n",
        "    return cost\n",
        "\n",
        "def fit(X, y, lr=0.001, bias = True, max_iterations=100):\n",
        "    params,X = initialize(X, bias)\n",
        "    for i in range(max_iterations):\n",
        "        params = params - lr * np.dot(X.T, sigmoid(np.dot(X,params)) - np.reshape(y,(len(y),1)))\n",
        "    return params\n",
        "\n",
        "def predict(X, optimum_weights, bias = True, threshold = 0.5):\n",
        "    z = np.dot(initialize(X, bias)[1], optimum_weights)\n",
        "    preds = []\n",
        "    for i in sigmoid(z):\n",
        "        if i>threshold:\n",
        "            preds.append(1)\n",
        "        else:\n",
        "            preds.append(0)\n",
        "    return preds"
      ]
    },
    {
      "cell_type": "code",
      "execution_count": null,
      "id": "94718f06",
      "metadata": {
        "id": "94718f06"
      },
      "outputs": [],
      "source": [
        "bias = True\n",
        "max_iterations = 100\n",
        "lr = 0.001\n",
        "optimum_weights = fit(X_train, np.array(y_train), lr = 0.001, bias = bias, max_iterations = max_iterations)"
      ]
    },
    {
      "cell_type": "code",
      "execution_count": null,
      "id": "98373fcb",
      "metadata": {
        "id": "98373fcb"
      },
      "outputs": [],
      "source": [
        "test_preds = predict(X_test, optimum_weights, bias = bias, threshold = 0.5)"
      ]
    },
    {
      "cell_type": "code",
      "execution_count": null,
      "id": "a334a452",
      "metadata": {
        "id": "a334a452",
        "outputId": "401a06be-b17b-42bf-e61c-4dd7b496dedc"
      },
      "outputs": [
        {
          "name": "stdout",
          "output_type": "stream",
          "text": [
            "f1_score (test data) , (from scratch) :  0.8571428571428571\n",
            "f1_score (test data) , (sklearn) :  0.8571428571428571\n"
          ]
        }
      ],
      "source": [
        "y_hat_test = ((LogReg.predict_proba(X_test)>th)[:,1]).astype(int)\n",
        "test_f1= f1_score(y_test , y_hat_test)\n",
        "print('f1_score (test data) , (from scratch) : ', f1_score(y_test , test_preds))\n",
        "print('f1_score (test data) , (sklearn) : ',test_f1)"
      ]
    },
    {
      "cell_type": "code",
      "execution_count": null,
      "id": "947cbde7",
      "metadata": {
        "id": "947cbde7",
        "outputId": "90d97e17-65b0-4802-98e0-6df8424a2cce"
      },
      "outputs": [
        {
          "name": "stdout",
          "output_type": "stream",
          "text": [
            "from scratch f1_score :  0.4210526315789474\n"
          ]
        }
      ],
      "source": [
        "# Decision Tree\n",
        "class Node():\n",
        "    def __init__(self, feature_index = None, threshold = None, left = None, right = None, info_gain = None, value = None):\n",
        "        # for decision nodes (internal nodes)\n",
        "        self.feature_index = feature_index\n",
        "        self.threshold = threshold\n",
        "        self.left = left\n",
        "        self.right = right\n",
        "        self.info_gain = info_gain\n",
        "\n",
        "        # for leaf node\n",
        "        self.value = value\n",
        "\n",
        "class DecisionTreeClassifierFromScratch():\n",
        "  def __init__(self, min_samples_split = 2, max_depth = 2, max_features_per_split = 3, criterion = 'gini'):\n",
        "    self.root = None\n",
        "    self.max_features_per_split = max_features_per_split\n",
        "    self.criterion = criterion\n",
        "\n",
        "    # set the stopping conditions\n",
        "    self.min_samples_split = min_samples_split\n",
        "    self.max_depth = max_depth\n",
        "    \n",
        "  def gini_index(self, y):\n",
        "    class_labels = np.unique(y)\n",
        "    gini = 0\n",
        "    for cls in class_labels:\n",
        "      p_cls = len(y[y == cls])/len(y)\n",
        "      gini += (p_cls ** 2)\n",
        "    return 1 - gini\n",
        "\n",
        "  def entropy(self, y):\n",
        "    class_labels = np.unique(y)\n",
        "    entropy = 0 \n",
        "    for cls in class_labels:\n",
        "      p_cls = len(y[y == cls])/len(y)\n",
        "      entropy += -p_cls * np.log2(p_cls)\n",
        "    return entropy\n",
        "\n",
        "  def information_gain(self, parent, l_child, r_child, mode):\n",
        "    ## parent: the list of ground truth labels for all the points in the region of the parent node\n",
        "    ## l_child : the list of ground truth labels for all the points in the region l_child\n",
        "    weight_l = len(l_child)/len(parent)\n",
        "    weight_r = len(r_child)/len(parent)\n",
        "\n",
        "    if mode == 'gini':\n",
        "      gain = self.gini_index(parent) - ((weight_l * self.gini_index(l_child)) + (weight_r * self.gini_index(r_child)))\n",
        "    else:\n",
        "      gain = self.entropy(parent) - ((weight_l * self.entropy(l_child)) + (weight_r * self.entropy(r_child)))\n",
        "    return gain\n",
        "\n",
        "  def split(self, dataset, feature_index, threshold):\n",
        "    dataset_left = np.array([row for row in dataset if row[feature_index] <= threshold])\n",
        "    dataset_right = np.array([row for row in dataset if row[feature_index] > threshold])\n",
        "    return dataset_left, dataset_right\n",
        "\n",
        "  def get_best_split(self, dataset, num_samples, num_features, max_features_per_split, mode):\n",
        "    # define a dictionary to store the best split\n",
        "    best_split = {}\n",
        "    max_info_gain = -float(\"inf\")\n",
        "\n",
        "    # loop over a random sample of the features\n",
        "    random_features_indices = np.random.choice(num_features, size = max_features_per_split, replace = False)\n",
        "    for feature_index in random_features_indices:\n",
        "      feature_values = dataset[ :, feature_index]\n",
        "      possible_thresholds = np.unique(feature_values)\n",
        "\n",
        "      # loop over all possible split values (thresholds) for the current feature\n",
        "      for threshold in possible_thresholds:\n",
        "        dataset_left, dataset_right = self.split(dataset, feature_index, threshold)\n",
        "        # making sure that the current split has left and right datasets \n",
        "        if len(dataset_left) > 0 and len(dataset_right) > 0:\n",
        "          y_parent, y_left_child, y_right_child = dataset[:, -1], dataset_left[:, -1], dataset_right[:, -1]\n",
        "          curr_info_gain = self.information_gain(y_parent, y_left_child, y_right_child, mode = mode)\n",
        "          if curr_info_gain > max_info_gain:\n",
        "            best_split['feature_index'] = feature_index\n",
        "            best_split['threshold'] = threshold\n",
        "            best_split['dataset_left'] = dataset_left\n",
        "            best_split['dataset_right'] = dataset_right\n",
        "            best_split['info_gain'] = curr_info_gain\n",
        "            max_info_gain = curr_info_gain\n",
        "    return best_split\n",
        "\n",
        "  def calculate_leaf_value(self, Y):\n",
        "    Y = list(Y)\n",
        "    return max(Y, key = Y.count)\n",
        "\n",
        "  def build_tree(self, dataset, curr_depth = 0):\n",
        "    # recursive function to build the tree\n",
        "    X, Y = dataset[:, :-1], dataset[:, -1]\n",
        "    num_samples, num_features = np.shape(X)\n",
        "    # we will split until the stopping coditions are met\n",
        "    if num_samples >= self.min_samples_split and curr_depth <= self.max_depth:\n",
        "      # getting the best split; it returns a dictionary\n",
        "      best_split = self.get_best_split(dataset, num_samples, num_features, self.max_features_per_split, self.criterion)\n",
        "      # check if the information gain after the best split is positive\n",
        "      if best_split['info_gain'] > 0:\n",
        "        left_subtree = self.build_tree(best_split['dataset_left'], curr_depth + 1)\n",
        "        right_subtree = self.build_tree(best_split['dataset_right'], curr_depth + 1)\n",
        "        return Node(feature_index = best_split['feature_index'], threshold = best_split['threshold'], \n",
        "                    left = left_subtree, right = right_subtree, info_gain = best_split['info_gain'], value = None)\n",
        "        \n",
        "    # compute the leaf node only if we are out of the stopping condition\n",
        "    leaf_value = self.calculate_leaf_value(Y) \n",
        "    # return leaf node\n",
        "    return Node(value = leaf_value)\n",
        "\n",
        "  def fit(self, X, Y):\n",
        "    dataset = np.hstack((X, Y))\n",
        "    self.root = self.build_tree(dataset)\n",
        "\n",
        "  def make_prediction(self, x, tree):\n",
        "    if tree.value != None: \n",
        "      return tree.value\n",
        "    feature_val = x[tree.feature_index]\n",
        "    if feature_val <= tree.threshold:\n",
        "      return self.make_prediction(x, tree.left)\n",
        "    else:\n",
        "      return self.make_prediction(x, tree.right)\n",
        "\n",
        "  def predict(self, X):\n",
        "    predictions = [self.make_prediction(x, self.root) for x in X.values]\n",
        "    return predictions\n",
        "\n",
        "  def print_tree(self, tree=None, indent=\" \"):\n",
        "        ''' function to print the tree '''\n",
        "        \n",
        "        if not tree:\n",
        "            tree = self.root\n",
        "\n",
        "        if tree.value is not None:\n",
        "            print(tree.value)\n",
        "\n",
        "        else:\n",
        "            print(\"X_\"+str(tree.feature_index), \"<=\", tree.threshold, \"?\", tree.info_gain)\n",
        "            print(\"%sleft:\" % (indent), end=\"\")\n",
        "            self.print_tree(tree.left, indent + indent)\n",
        "            print(\"%sright:\" % (indent), end=\"\")\n",
        "            self.print_tree(tree.right, indent + indent)\n",
        "\n",
        "            \n",
        "classifier = DecisionTreeClassifierFromScratch(min_samples_split = 3, max_depth = 3, max_features_per_split = 2, criterion= 'gini')\n",
        "classifier.fit(X_train[X_train.columns[:10]], np.array(y_train).reshape(-1,1))\n",
        "\n",
        "Y_pred = classifier.predict(X_test[X_train.columns[:10]])\n",
        "\n",
        "print('from scratch f1_score : ', f1_score(y_test, Y_pred))\n"
      ]
    },
    {
      "cell_type": "code",
      "execution_count": null,
      "id": "70a36e54",
      "metadata": {
        "id": "70a36e54",
        "outputId": "4a47ec75-ce80-476e-e4ce-3024265e6594"
      },
      "outputs": [
        {
          "name": "stdout",
          "output_type": "stream",
          "text": [
            "F1_score for test data(from scratch):  0.6363636363636365\n",
            "F1_score for test data(sklearn):  0.6363636363636365\n"
          ]
        }
      ],
      "source": [
        "# K neighbours \n",
        "from scipy.stats import mode \n",
        "class K_Nearest_Neighbors_Classifier() : \n",
        "      \n",
        "    def __init__( self, K ) :\n",
        "          self.K = K\n",
        "          \n",
        "    # Function to store training set\n",
        "          \n",
        "    def fit( self, X_train, Y_train ) :\n",
        "        self.X_train = X_train\n",
        "        self.Y_train = Y_train  \n",
        "        # no_of_training_examples, no_of_features\n",
        "        self.m, self.n = X_train.shape\n",
        "      \n",
        "\n",
        "    def predict( self, X_test ) : \n",
        "        self.X_test = X_test\n",
        "        # no_of_test_examples, no_of_features\n",
        "        self.m_test, self.n = X_test.shape\n",
        "        # initialize Y_predict\n",
        "        Y_predict = np.zeros( self.m_test )\n",
        "          \n",
        "        for i in range( self.m_test ) :\n",
        "            x = self.X_test[i]\n",
        "            # find the K nearest neighbors from current test example\n",
        "            neighbors = np.zeros( self.K )\n",
        "            neighbors = self.find_neighbors( x )\n",
        "            # most frequent class in K neighbors\n",
        "            Y_predict[i] = mode( neighbors )[0][0]    \n",
        "              \n",
        "        return Y_predict\n",
        "      \n",
        "    # Function to find the K nearest neighbors to current test example\n",
        "            \n",
        "    def find_neighbors( self, x ) :\n",
        "          \n",
        "        # calculate all the euclidean distances between current \n",
        "        # test example x and training set X_train\n",
        "        euclidean_distances = np.zeros( self.m )\n",
        "        for i in range( self.m ) :\n",
        "            d = self.euclidean( x, self.X_train[i] )\n",
        "            euclidean_distances[i] = d\n",
        "        # sort Y_train according to euclidean_distance_array and \n",
        "        # store into Y_train_sorted\n",
        "        inds = euclidean_distances.argsort()\n",
        "        Y_train_sorted = self.Y_train[inds]\n",
        "          \n",
        "        return Y_train_sorted[:self.K]\n",
        "      \n",
        "    # Function to calculate euclidean distance\n",
        "              \n",
        "    def euclidean( self, x, x_train ) :\n",
        "          \n",
        "        return np.sqrt( np.sum( np.square( x - x_train ) ) )\n",
        "\n",
        "\n",
        "# Splitting dataset into train and test set\n",
        "\n",
        "X_train, X_test, Y_train, Y_test = X_train.values , X_test.values, y_train.values, y_test.values\n",
        "\n",
        "# Model training\n",
        "\n",
        "model = K_Nearest_Neighbors_Classifier( K = 3 )\n",
        "\n",
        "model.fit( X_train, Y_train )\n",
        "\n",
        "model1 = KNeighborsClassifier( n_neighbors = 3 )\n",
        "\n",
        "model1.fit( X_train, Y_train )\n",
        "\n",
        "# Prediction on test set\n",
        "\n",
        "Y_pred = model.predict( X_test )\n",
        "\n",
        "Y_pred1 = model1.predict( X_test )\n",
        "\n",
        "print('F1_score for test data(from scratch): ', f1_score(Y_test , Y_pred))\n",
        "print('F1_score for test data(sklearn): ', f1_score(Y_test , Y_pred1))\n"
      ]
    },
    {
      "cell_type": "code",
      "execution_count": null,
      "id": "66fded3e",
      "metadata": {
        "id": "66fded3e"
      },
      "outputs": [],
      "source": [
        "# SVC\n",
        "X = X_train\n",
        "y = np.array(y_train).reshape(-1,1)\n",
        "#Initializing values and computing H. Note the 1. to force to float type\n",
        "m,n = X.shape\n",
        "y = y * 1.\n",
        "X_dash = y * X\n",
        "H = np.dot(X_dash , X_dash.T) * 1."
      ]
    },
    {
      "cell_type": "code",
      "execution_count": null,
      "id": "df0ee836",
      "metadata": {
        "id": "df0ee836"
      },
      "outputs": [],
      "source": [
        "#Converting into cvxopt format\n",
        "from cvxopt import matrix as cvxopt_matrix\n",
        "from cvxopt import solvers as cvxopt_solvers\n",
        "\n",
        "P = cvxopt_matrix(H)\n",
        "q = cvxopt_matrix(-np.ones((m, 1)))\n",
        "G = cvxopt_matrix(-np.eye(m))\n",
        "h = cvxopt_matrix(np.zeros(m))\n",
        "A = cvxopt_matrix(y.reshape(1, -1))\n",
        "b = cvxopt_matrix(np.zeros(1))\n"
      ]
    },
    {
      "cell_type": "code",
      "execution_count": null,
      "id": "Se-v9FBsU_O8",
      "metadata": {
        "id": "Se-v9FBsU_O8"
      },
      "outputs": [],
      "source": [
        "cvxopt_solvers.options['show_progress'] = False\n",
        "sol = cvxopt_solvers.qp(P, q, G, h, A, b)\n",
        "alphas = np.array(sol['x'])"
      ]
    },
    {
      "cell_type": "code",
      "execution_count": null,
      "id": "KnroP39aVBcf",
      "metadata": {
        "id": "KnroP39aVBcf"
      },
      "outputs": [],
      "source": [
        "supp_vector = []\n",
        "for j in range(len(alphas)):\n",
        "  current_alpha_value = alphas[j][0]\n",
        "  if (current_alpha_value > 1e-4 ) :\n",
        "    supp_vector.append(j)"
      ]
    },
    {
      "cell_type": "code",
      "execution_count": null,
      "id": "u7bTj943VDie",
      "metadata": {
        "colab": {
          "base_uri": "https://localhost:8080/"
        },
        "id": "u7bTj943VDie",
        "outputId": "2c6cc857-da0d-42c5-ba05-550ba00f7803"
      },
      "outputs": [
        {
          "name": "stdout",
          "output_type": "stream",
          "text": [
            "Alphas =  [9.8270785e+195 9.8270785e+195 9.8270785e+195 9.8270785e+195\n",
            " 9.8270785e+195 9.8270785e+195 9.8270785e+195 9.8270785e+195\n",
            " 9.8270785e+195 9.8270785e+195 9.8270785e+195 9.8270785e+195\n",
            " 9.8270785e+195 9.8270785e+195 9.8270785e+195 9.8270785e+195\n",
            " 9.8270785e+195 9.8270785e+195 9.8270785e+195 9.8270785e+195\n",
            " 9.8270785e+195 9.8270785e+195 9.8270785e+195 9.8270785e+195\n",
            " 9.8270785e+195 9.8270785e+195 9.8270785e+195 9.8270785e+195\n",
            " 9.8270785e+195 9.8270785e+195 9.8270785e+195 9.8270785e+195\n",
            " 9.8270785e+195 9.8270785e+195 9.8270785e+195 9.8270785e+195\n",
            " 9.8270785e+195 9.8270785e+195 9.8270785e+195 9.8270785e+195\n",
            " 9.8270785e+195 9.8270785e+195 9.8270785e+195 9.8270785e+195\n",
            " 9.8270785e+195 9.8270785e+195 9.8270785e+195 9.8270785e+195\n",
            " 9.8270785e+195 9.8270785e+195 9.8270785e+195 9.8270785e+195\n",
            " 9.8270785e+195 9.8270785e+195 9.8270785e+195 9.8270785e+195\n",
            " 9.8270785e+195 9.8270785e+195 9.8270785e+195 9.8270785e+195\n",
            " 9.8270785e+195 9.8270785e+195 9.8270785e+195 9.8270785e+195\n",
            " 9.8270785e+195 9.8270785e+195 9.8270785e+195 9.8270785e+195\n",
            " 9.8270785e+195 9.8270785e+195 9.8270785e+195 9.8270785e+195\n",
            " 9.8270785e+195 9.8270785e+195 9.8270785e+195 9.8270785e+195\n",
            " 9.8270785e+195 9.8270785e+195 9.8270785e+195 9.8270785e+195\n",
            " 9.8270785e+195 9.8270785e+195 9.8270785e+195 9.8270785e+195\n",
            " 9.8270785e+195 9.8270785e+195 9.8270785e+195 9.8270785e+195\n",
            " 9.8270785e+195 9.8270785e+195 9.8270785e+195 9.8270785e+195\n",
            " 9.8270785e+195 9.8270785e+195 9.8270785e+195 9.8270785e+195\n",
            " 9.8270785e+195 9.8270785e+195 9.8270785e+195 9.8270785e+195\n",
            " 9.8270785e+195 9.8270785e+195 9.8270785e+195 9.8270785e+195\n",
            " 9.8270785e+195 9.8270785e+195 9.8270785e+195 9.8270785e+195\n",
            " 9.8270785e+195 9.8270785e+195 9.8270785e+195 9.8270785e+195\n",
            " 9.8270785e+195 9.8270785e+195 9.8270785e+195 9.8270785e+195\n",
            " 9.8270785e+195 9.8270785e+195 9.8270785e+195 9.8270785e+195\n",
            " 9.8270785e+195 9.8270785e+195 9.8270785e+195 9.8270785e+195\n",
            " 9.8270785e+195 9.8270785e+195 9.8270785e+195 9.8270785e+195\n",
            " 9.8270785e+195 9.8270785e+195 9.8270785e+195 9.8270785e+195\n",
            " 9.8270785e+195 9.8270785e+195 9.8270785e+195 9.8270785e+195\n",
            " 9.8270785e+195 9.8270785e+195 9.8270785e+195 9.8270785e+195\n",
            " 9.8270785e+195 9.8270785e+195 9.8270785e+195 9.8270785e+195\n",
            " 9.8270785e+195 9.8270785e+195 9.8270785e+195 9.8270785e+195\n",
            " 9.8270785e+195 9.8270785e+195 9.8270785e+195 9.8270785e+195\n",
            " 9.8270785e+195 9.8270785e+195 9.8270785e+195 9.8270785e+195\n",
            " 9.8270785e+195 9.8270785e+195 9.8270785e+195 9.8270785e+195\n",
            " 9.8270785e+195 9.8270785e+195 9.8270785e+195 9.8270785e+195\n",
            " 9.8270785e+195 9.8270785e+195 9.8270785e+195 9.8270785e+195\n",
            " 9.8270785e+195 9.8270785e+195 9.8270785e+195 9.8270785e+195\n",
            " 9.8270785e+195 9.8270785e+195 9.8270785e+195 9.8270785e+195\n",
            " 9.8270785e+195 9.8270785e+195 9.8270785e+195 9.8270785e+195\n",
            " 9.8270785e+195 9.8270785e+195 9.8270785e+195 9.8270785e+195\n",
            " 9.8270785e+195 9.8270785e+195 9.8270785e+195 9.8270785e+195\n",
            " 9.8270785e+195 9.8270785e+195 9.8270785e+195 9.8270785e+195\n",
            " 9.8270785e+195 9.8270785e+195 9.8270785e+195 9.8270785e+195\n",
            " 9.8270785e+195 9.8270785e+195 9.8270785e+195 9.8270785e+195\n",
            " 9.8270785e+195 9.8270785e+195 9.8270785e+195 9.8270785e+195\n",
            " 9.8270785e+195 9.8270785e+195 9.8270785e+195 9.8270785e+195\n",
            " 9.8270785e+195 9.8270785e+195 9.8270785e+195 9.8270785e+195\n",
            " 9.8270785e+195 9.8270785e+195]\n",
            "w =  [ 1.40642608e-05  1.17883678e-05  5.64054559e-06 -8.48625504e-07\n",
            "  1.03151645e-05  7.28657329e-06  9.41202934e-06  1.14813143e-06\n",
            "  1.33357631e-05  7.96427538e-06  1.34412602e-05  1.10146202e-05\n",
            "  9.67754803e-06  3.99129941e-06 -1.89416850e-05  2.36107599e-06\n",
            "  7.25681667e-07  2.61037321e-06  6.46477833e-06 -1.70813853e-05\n",
            "  6.80242395e-07  1.13605725e-06  0.00000000e+00  5.63194041e-07\n",
            "  1.08210799e-06  2.34900930e-05  7.01340125e-07  1.89437502e-06\n",
            "  0.00000000e+00  6.36752860e-06 -2.12702198e-05  7.72032574e-06\n",
            "  1.70499128e-06  1.95748983e-06  1.17276847e-06  1.76279068e-06\n",
            "  9.28911702e-07  2.40085316e-06  1.12600073e-06  1.18483935e-06\n",
            "  0.00000000e+00  1.64281114e-06  0.00000000e+00  2.97845715e-06\n",
            "  0.00000000e+00 -1.73242859e-05 -2.08215143e-05  3.72109427e-06\n",
            "  2.85658698e-05  4.16187853e-06  7.19869088e-07  3.33171416e-06\n",
            "  1.92015136e-07  1.79459604e-06  3.21517401e-06  5.63194041e-07\n",
            "  3.67524160e-07  0.00000000e+00  6.73177748e-07  5.17241228e-07\n",
            "  0.00000000e+00]\n",
            "b =  0.0\n"
          ]
        }
      ],
      "source": [
        "# defining a function that calculates the inner summation term (inner loop) of the intercept term\n",
        "def b_calc(Support_vectors_indices, alphas, x_train, y):\n",
        "  outer_sum_term = 0\n",
        "  for s in Support_vectors_indices:\n",
        "    inner_sum_term = 0\n",
        "    for m in Support_vectors_indices:\n",
        "      inner_sum_term += (alphas[m] * y[m] * np.dot(x_train[m], x_train[s]))\n",
        "    outer_sum_term += (y[s] - inner_sum_term)\n",
        "  \n",
        "  return outer_sum_term/len(Support_vectors_indices)\n",
        "  \n",
        "#w parameter in vectorized form\n",
        "w = ((y * alphas).T .dot(X)).reshape(-1,1)\n",
        "\n",
        "#Computing b\n",
        "b = b_calc(supp_vector, alphas.flatten(), X, y.flatten())\n",
        "\n",
        "#Display results\n",
        "print('Alphas = ',alphas[alphas > 1e-4])\n",
        "print('w = ', w.flatten())\n",
        "print('b = ', b)"
      ]
    },
    {
      "cell_type": "markdown",
      "id": "5fcd238d",
      "metadata": {
        "id": "5fcd238d"
      },
      "source": [
        "_______\n",
        "6- For each model provide suitable quantitative metrics for assessing the performance of your model based on the required application."
      ]
    },
    {
      "cell_type": "markdown",
      "id": "487e4059",
      "metadata": {
        "id": "487e4059"
      },
      "source": [
        "we use f1_score for each model because the data is imbalance<br> + ROC , ROC_AUC for logistic Regression"
      ]
    },
    {
      "cell_type": "markdown",
      "id": "64581299",
      "metadata": {
        "id": "64581299"
      },
      "source": [
        "## <font color = darkgreen > Choosed Models : <br><br> SVC</font>\n",
        "(linear kernal , C =3) <br>\n",
        "##  <font color = darkgreen > Decision Tree(Choosed parameters : </font>\n",
        "{'max_depth': 3, 'min_samples_split': 2, 'min_samples_leaf': 1, 'max_features': 17, 'max_leaf_nodes': 20, 'ccp_alpha': 0.001})\n",
        "##  <font color = darkgreen > Random Forest(Choosed parameters : </font>\n",
        " {'max_depth': 9, 'min_samples_split': 3, 'min_samples_leaf': 1, 'max_features': 6, 'max_leaf_nodes': 200, 'ccp_alpha': 0.001, 'n_estimators': 35}"
      ]
    }
  ],
  "metadata": {
    "colab": {
      "collapsed_sections": [
        "64581299"
      ],
      "name": "Hayaa_Final_Project_Classification.ipynb",
      "provenance": [],
      "include_colab_link": true
    },
    "kernelspec": {
      "display_name": "Python 3 (ipykernel)",
      "language": "python",
      "name": "python3"
    },
    "language_info": {
      "codemirror_mode": {
        "name": "ipython",
        "version": 3
      },
      "file_extension": ".py",
      "mimetype": "text/x-python",
      "name": "python",
      "nbconvert_exporter": "python",
      "pygments_lexer": "ipython3",
      "version": "3.9.7"
    }
  },
  "nbformat": 4,
  "nbformat_minor": 5
}